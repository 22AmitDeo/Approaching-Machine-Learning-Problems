{
 "cells": [
  {
   "cell_type": "markdown",
   "metadata": {},
   "source": [
    "# Approaching ML Problems \n",
    "Understand the business requirements and the nature of the available data.\n",
    "\n",
    "Classify the problem as supervised/unsupervised and regression/classification.\n",
    "\n",
    "Download, clean & explore the data and create new features that may improve models.\n",
    "\n",
    "Create training/test/validation sets and prepare the data for training ML models.\n",
    "\n",
    "Create a quick & easy baseline model to evaluate and benchmark future models.\n",
    "\n",
    "Pick a modeling strategy, train a model, and tune hyperparameters to achieve optimal fit.\n",
    "\n",
    "Experiment and combine results from multiple strategies to get a better result.\n",
    "\n",
    "Interpret models, study individual predictions, and present your findings.\n"
   ]
  },
  {
   "cell_type": "code",
   "execution_count": 1,
   "metadata": {},
   "outputs": [],
   "source": [
    "! pip install numpy pandas-profiling matplotlib plotly seaborn"
   ]
  },
  {
   "cell_type": "code",
   "execution_count": 2,
   "metadata": {},
   "outputs": [],
   "source": [
    "! pip install opendatasets"
   ]
  },
  {
   "cell_type": "code",
   "execution_count": 4,
   "metadata": {},
   "outputs": [],
   "source": [
    "import os\n",
    "# import jovian\n",
    "import matplotlib\n",
    "# import opendatasets as od\n",
    "import numpy as np\n",
    "import pandas as pd\n",
    "import matplotlib.pyplot as plt\n",
    "import seaborn as sns\n",
    "import plotly.express as px\n",
    "%matplotlib inline\n",
    "\n",
    "sns.set_style('darkgrid')\n",
    "matplotlib.rcParams['font.size'] = 14\n",
    "matplotlib.rcParams['figure.figsize'] = (10, 6)\n",
    "matplotlib.rcParams['figure.facecolor'] = '#00000000'"
   ]
  }
 ],
 "metadata": {
  "kernelspec": {
   "display_name": "Python 3",
   "language": "python",
   "name": "python3"
  },
  "language_info": {
   "codemirror_mode": {
    "name": "ipython",
    "version": 3
   },
   "file_extension": ".py",
   "mimetype": "text/x-python",
   "name": "python",
   "nbconvert_exporter": "python",
   "pygments_lexer": "ipython3",
   "version": "3.12.6"
  }
 },
 "nbformat": 4,
 "nbformat_minor": 2
}
