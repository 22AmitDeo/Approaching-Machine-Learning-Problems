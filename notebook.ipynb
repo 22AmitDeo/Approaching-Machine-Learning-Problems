{
 "cells": [
  {
   "cell_type": "markdown",
   "metadata": {},
   "source": [
    "# Approaching ML Problems \n",
    "Understand the business requirements and the nature of the available data.\n",
    "\n",
    "Classify the problem as supervised/unsupervised and regression/classification.\n",
    "\n",
    "Download, clean & explore the data and create new features that may improve models.\n",
    "\n",
    "Create training/test/validation sets and prepare the data for training ML models.\n",
    "\n",
    "Create a quick & easy baseline model to evaluate and benchmark future models.\n",
    "\n",
    "Pick a modeling strategy, train a model, and tune hyperparameters to achieve optimal fit.\n",
    "\n",
    "Experiment and combine results from multiple strategies to get a better result.\n",
    "\n",
    "Interpret models, study individual predictions, and present your findings.\n"
   ]
  }
 ],
 "metadata": {
  "language_info": {
   "name": "python"
  }
 },
 "nbformat": 4,
 "nbformat_minor": 2
}
